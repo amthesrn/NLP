{
 "cells": [
  {
   "cell_type": "code",
   "execution_count": null,
   "metadata": {
    "id": "gJzyjO5_NYQz"
   },
   "outputs": [],
   "source": [
    "import pandas as pd"
   ]
  },
  {
   "cell_type": "code",
   "execution_count": null,
   "metadata": {
    "id": "hxFXK72NNa-l"
   },
   "outputs": [],
   "source": [
    "df= pd.read_csv('/content/Gender_Data.csv')"
   ]
  },
  {
   "cell_type": "code",
   "execution_count": null,
   "metadata": {
    "colab": {
     "base_uri": "https://localhost:8080/"
    },
    "id": "6t5jpxIDNuug",
    "outputId": "73797f76-69c9-49fd-c5ac-92e4d5645583"
   },
   "outputs": [
    {
     "name": "stdout",
     "output_type": "stream",
     "text": [
      "<class 'pandas.core.frame.DataFrame'>\n",
      "RangeIndex: 53982 entries, 0 to 53981\n",
      "Data columns (total 2 columns):\n",
      " #   Column  Non-Null Count  Dtype \n",
      "---  ------  --------------  ----- \n",
      " 0   Name    53982 non-null  object\n",
      " 1   Gender  53982 non-null  int64 \n",
      "dtypes: int64(1), object(1)\n",
      "memory usage: 843.6+ KB\n"
     ]
    }
   ],
   "source": [
    "df.info()"
   ]
  },
  {
   "cell_type": "code",
   "execution_count": null,
   "metadata": {
    "colab": {
     "base_uri": "https://localhost:8080/",
     "height": 206
    },
    "id": "PY3lZ9atN0Qq",
    "outputId": "26f7094e-e7eb-4d21-d130-b5c070252cb0"
   },
   "outputs": [
    {
     "data": {
      "application/vnd.google.colaboratory.intrinsic+json": {
       "summary": "{\n  \"name\": \"df\",\n  \"rows\": 53982,\n  \"fields\": [\n    {\n      \"column\": \"Name\",\n      \"properties\": {\n        \"dtype\": \"string\",\n        \"num_unique_values\": 53925,\n        \"samples\": [\n          \"Rajenthika\",\n          \"Somvir\",\n          \"Sornam\"\n        ],\n        \"semantic_type\": \"\",\n        \"description\": \"\"\n      }\n    },\n    {\n      \"column\": \"Gender\",\n      \"properties\": {\n        \"dtype\": \"number\",\n        \"std\": 0,\n        \"min\": 0,\n        \"max\": 1,\n        \"num_unique_values\": 2,\n        \"samples\": [\n          1,\n          0\n        ],\n        \"semantic_type\": \"\",\n        \"description\": \"\"\n      }\n    }\n  ]\n}",
       "type": "dataframe",
       "variable_name": "df"
      },
      "text/html": [
       "\n",
       "  <div id=\"df-99238307-9cd7-44e3-9f88-1667045b16df\" class=\"colab-df-container\">\n",
       "    <div>\n",
       "<style scoped>\n",
       "    .dataframe tbody tr th:only-of-type {\n",
       "        vertical-align: middle;\n",
       "    }\n",
       "\n",
       "    .dataframe tbody tr th {\n",
       "        vertical-align: top;\n",
       "    }\n",
       "\n",
       "    .dataframe thead th {\n",
       "        text-align: right;\n",
       "    }\n",
       "</style>\n",
       "<table border=\"1\" class=\"dataframe\">\n",
       "  <thead>\n",
       "    <tr style=\"text-align: right;\">\n",
       "      <th></th>\n",
       "      <th>Name</th>\n",
       "      <th>Gender</th>\n",
       "    </tr>\n",
       "  </thead>\n",
       "  <tbody>\n",
       "    <tr>\n",
       "      <th>0</th>\n",
       "      <td>Aaban</td>\n",
       "      <td>0</td>\n",
       "    </tr>\n",
       "    <tr>\n",
       "      <th>1</th>\n",
       "      <td>Aabharan</td>\n",
       "      <td>0</td>\n",
       "    </tr>\n",
       "    <tr>\n",
       "      <th>2</th>\n",
       "      <td>Aabhas</td>\n",
       "      <td>0</td>\n",
       "    </tr>\n",
       "    <tr>\n",
       "      <th>3</th>\n",
       "      <td>Aabhat</td>\n",
       "      <td>0</td>\n",
       "    </tr>\n",
       "    <tr>\n",
       "      <th>4</th>\n",
       "      <td>Aabheer</td>\n",
       "      <td>0</td>\n",
       "    </tr>\n",
       "  </tbody>\n",
       "</table>\n",
       "</div>\n",
       "    <div class=\"colab-df-buttons\">\n",
       "\n",
       "  <div class=\"colab-df-container\">\n",
       "    <button class=\"colab-df-convert\" onclick=\"convertToInteractive('df-99238307-9cd7-44e3-9f88-1667045b16df')\"\n",
       "            title=\"Convert this dataframe to an interactive table.\"\n",
       "            style=\"display:none;\">\n",
       "\n",
       "  <svg xmlns=\"http://www.w3.org/2000/svg\" height=\"24px\" viewBox=\"0 -960 960 960\">\n",
       "    <path d=\"M120-120v-720h720v720H120Zm60-500h600v-160H180v160Zm220 220h160v-160H400v160Zm0 220h160v-160H400v160ZM180-400h160v-160H180v160Zm440 0h160v-160H620v160ZM180-180h160v-160H180v160Zm440 0h160v-160H620v160Z\"/>\n",
       "  </svg>\n",
       "    </button>\n",
       "\n",
       "  <style>\n",
       "    .colab-df-container {\n",
       "      display:flex;\n",
       "      gap: 12px;\n",
       "    }\n",
       "\n",
       "    .colab-df-convert {\n",
       "      background-color: #E8F0FE;\n",
       "      border: none;\n",
       "      border-radius: 50%;\n",
       "      cursor: pointer;\n",
       "      display: none;\n",
       "      fill: #1967D2;\n",
       "      height: 32px;\n",
       "      padding: 0 0 0 0;\n",
       "      width: 32px;\n",
       "    }\n",
       "\n",
       "    .colab-df-convert:hover {\n",
       "      background-color: #E2EBFA;\n",
       "      box-shadow: 0px 1px 2px rgba(60, 64, 67, 0.3), 0px 1px 3px 1px rgba(60, 64, 67, 0.15);\n",
       "      fill: #174EA6;\n",
       "    }\n",
       "\n",
       "    .colab-df-buttons div {\n",
       "      margin-bottom: 4px;\n",
       "    }\n",
       "\n",
       "    [theme=dark] .colab-df-convert {\n",
       "      background-color: #3B4455;\n",
       "      fill: #D2E3FC;\n",
       "    }\n",
       "\n",
       "    [theme=dark] .colab-df-convert:hover {\n",
       "      background-color: #434B5C;\n",
       "      box-shadow: 0px 1px 3px 1px rgba(0, 0, 0, 0.15);\n",
       "      filter: drop-shadow(0px 1px 2px rgba(0, 0, 0, 0.3));\n",
       "      fill: #FFFFFF;\n",
       "    }\n",
       "  </style>\n",
       "\n",
       "    <script>\n",
       "      const buttonEl =\n",
       "        document.querySelector('#df-99238307-9cd7-44e3-9f88-1667045b16df button.colab-df-convert');\n",
       "      buttonEl.style.display =\n",
       "        google.colab.kernel.accessAllowed ? 'block' : 'none';\n",
       "\n",
       "      async function convertToInteractive(key) {\n",
       "        const element = document.querySelector('#df-99238307-9cd7-44e3-9f88-1667045b16df');\n",
       "        const dataTable =\n",
       "          await google.colab.kernel.invokeFunction('convertToInteractive',\n",
       "                                                    [key], {});\n",
       "        if (!dataTable) return;\n",
       "\n",
       "        const docLinkHtml = 'Like what you see? Visit the ' +\n",
       "          '<a target=\"_blank\" href=https://colab.research.google.com/notebooks/data_table.ipynb>data table notebook</a>'\n",
       "          + ' to learn more about interactive tables.';\n",
       "        element.innerHTML = '';\n",
       "        dataTable['output_type'] = 'display_data';\n",
       "        await google.colab.output.renderOutput(dataTable, element);\n",
       "        const docLink = document.createElement('div');\n",
       "        docLink.innerHTML = docLinkHtml;\n",
       "        element.appendChild(docLink);\n",
       "      }\n",
       "    </script>\n",
       "  </div>\n",
       "\n",
       "\n",
       "<div id=\"df-2c3d9463-a5ef-4b33-bfa5-9df036cf18e5\">\n",
       "  <button class=\"colab-df-quickchart\" onclick=\"quickchart('df-2c3d9463-a5ef-4b33-bfa5-9df036cf18e5')\"\n",
       "            title=\"Suggest charts\"\n",
       "            style=\"display:none;\">\n",
       "\n",
       "<svg xmlns=\"http://www.w3.org/2000/svg\" height=\"24px\"viewBox=\"0 0 24 24\"\n",
       "     width=\"24px\">\n",
       "    <g>\n",
       "        <path d=\"M19 3H5c-1.1 0-2 .9-2 2v14c0 1.1.9 2 2 2h14c1.1 0 2-.9 2-2V5c0-1.1-.9-2-2-2zM9 17H7v-7h2v7zm4 0h-2V7h2v10zm4 0h-2v-4h2v4z\"/>\n",
       "    </g>\n",
       "</svg>\n",
       "  </button>\n",
       "\n",
       "<style>\n",
       "  .colab-df-quickchart {\n",
       "      --bg-color: #E8F0FE;\n",
       "      --fill-color: #1967D2;\n",
       "      --hover-bg-color: #E2EBFA;\n",
       "      --hover-fill-color: #174EA6;\n",
       "      --disabled-fill-color: #AAA;\n",
       "      --disabled-bg-color: #DDD;\n",
       "  }\n",
       "\n",
       "  [theme=dark] .colab-df-quickchart {\n",
       "      --bg-color: #3B4455;\n",
       "      --fill-color: #D2E3FC;\n",
       "      --hover-bg-color: #434B5C;\n",
       "      --hover-fill-color: #FFFFFF;\n",
       "      --disabled-bg-color: #3B4455;\n",
       "      --disabled-fill-color: #666;\n",
       "  }\n",
       "\n",
       "  .colab-df-quickchart {\n",
       "    background-color: var(--bg-color);\n",
       "    border: none;\n",
       "    border-radius: 50%;\n",
       "    cursor: pointer;\n",
       "    display: none;\n",
       "    fill: var(--fill-color);\n",
       "    height: 32px;\n",
       "    padding: 0;\n",
       "    width: 32px;\n",
       "  }\n",
       "\n",
       "  .colab-df-quickchart:hover {\n",
       "    background-color: var(--hover-bg-color);\n",
       "    box-shadow: 0 1px 2px rgba(60, 64, 67, 0.3), 0 1px 3px 1px rgba(60, 64, 67, 0.15);\n",
       "    fill: var(--button-hover-fill-color);\n",
       "  }\n",
       "\n",
       "  .colab-df-quickchart-complete:disabled,\n",
       "  .colab-df-quickchart-complete:disabled:hover {\n",
       "    background-color: var(--disabled-bg-color);\n",
       "    fill: var(--disabled-fill-color);\n",
       "    box-shadow: none;\n",
       "  }\n",
       "\n",
       "  .colab-df-spinner {\n",
       "    border: 2px solid var(--fill-color);\n",
       "    border-color: transparent;\n",
       "    border-bottom-color: var(--fill-color);\n",
       "    animation:\n",
       "      spin 1s steps(1) infinite;\n",
       "  }\n",
       "\n",
       "  @keyframes spin {\n",
       "    0% {\n",
       "      border-color: transparent;\n",
       "      border-bottom-color: var(--fill-color);\n",
       "      border-left-color: var(--fill-color);\n",
       "    }\n",
       "    20% {\n",
       "      border-color: transparent;\n",
       "      border-left-color: var(--fill-color);\n",
       "      border-top-color: var(--fill-color);\n",
       "    }\n",
       "    30% {\n",
       "      border-color: transparent;\n",
       "      border-left-color: var(--fill-color);\n",
       "      border-top-color: var(--fill-color);\n",
       "      border-right-color: var(--fill-color);\n",
       "    }\n",
       "    40% {\n",
       "      border-color: transparent;\n",
       "      border-right-color: var(--fill-color);\n",
       "      border-top-color: var(--fill-color);\n",
       "    }\n",
       "    60% {\n",
       "      border-color: transparent;\n",
       "      border-right-color: var(--fill-color);\n",
       "    }\n",
       "    80% {\n",
       "      border-color: transparent;\n",
       "      border-right-color: var(--fill-color);\n",
       "      border-bottom-color: var(--fill-color);\n",
       "    }\n",
       "    90% {\n",
       "      border-color: transparent;\n",
       "      border-bottom-color: var(--fill-color);\n",
       "    }\n",
       "  }\n",
       "</style>\n",
       "\n",
       "  <script>\n",
       "    async function quickchart(key) {\n",
       "      const quickchartButtonEl =\n",
       "        document.querySelector('#' + key + ' button');\n",
       "      quickchartButtonEl.disabled = true;  // To prevent multiple clicks.\n",
       "      quickchartButtonEl.classList.add('colab-df-spinner');\n",
       "      try {\n",
       "        const charts = await google.colab.kernel.invokeFunction(\n",
       "            'suggestCharts', [key], {});\n",
       "      } catch (error) {\n",
       "        console.error('Error during call to suggestCharts:', error);\n",
       "      }\n",
       "      quickchartButtonEl.classList.remove('colab-df-spinner');\n",
       "      quickchartButtonEl.classList.add('colab-df-quickchart-complete');\n",
       "    }\n",
       "    (() => {\n",
       "      let quickchartButtonEl =\n",
       "        document.querySelector('#df-2c3d9463-a5ef-4b33-bfa5-9df036cf18e5 button');\n",
       "      quickchartButtonEl.style.display =\n",
       "        google.colab.kernel.accessAllowed ? 'block' : 'none';\n",
       "    })();\n",
       "  </script>\n",
       "</div>\n",
       "\n",
       "    </div>\n",
       "  </div>\n"
      ],
      "text/plain": [
       "       Name  Gender\n",
       "0     Aaban       0\n",
       "1  Aabharan       0\n",
       "2    Aabhas       0\n",
       "3    Aabhat       0\n",
       "4   Aabheer       0"
      ]
     },
     "execution_count": 193,
     "metadata": {},
     "output_type": "execute_result"
    }
   ],
   "source": [
    "df.head()"
   ]
  },
  {
   "cell_type": "markdown",
   "metadata": {
    "id": "fp4DQI5Trbup"
   },
   "source": [
    "##### Total no.of (rows,columns)"
   ]
  },
  {
   "cell_type": "code",
   "execution_count": null,
   "metadata": {
    "colab": {
     "base_uri": "https://localhost:8080/"
    },
    "id": "UnLXlLHSN3WY",
    "outputId": "0f26cf88-2c32-44d3-fcef-3f18aba6ff90"
   },
   "outputs": [
    {
     "data": {
      "text/plain": [
       "(53982, 2)"
      ]
     },
     "execution_count": 194,
     "metadata": {},
     "output_type": "execute_result"
    }
   ],
   "source": [
    "df.shape"
   ]
  },
  {
   "cell_type": "markdown",
   "metadata": {
    "id": "h--d-Di4rUZa"
   },
   "source": [
    "##### Total no.of cells"
   ]
  },
  {
   "cell_type": "code",
   "execution_count": null,
   "metadata": {
    "colab": {
     "base_uri": "https://localhost:8080/"
    },
    "id": "KyRxw7E-N6LL",
    "outputId": "0c9577a9-e877-4740-8ed4-798c66839e78"
   },
   "outputs": [
    {
     "data": {
      "text/plain": [
       "107964"
      ]
     },
     "execution_count": 195,
     "metadata": {},
     "output_type": "execute_result"
    }
   ],
   "source": [
    "df.size"
   ]
  },
  {
   "cell_type": "code",
   "execution_count": null,
   "metadata": {
    "colab": {
     "base_uri": "https://localhost:8080/",
     "height": 147
    },
    "id": "006S7RW4N77l",
    "outputId": "9f093b40-07a2-4440-98a5-203895d3ee09"
   },
   "outputs": [
    {
     "data": {
      "text/html": [
       "<div>\n",
       "<style scoped>\n",
       "    .dataframe tbody tr th:only-of-type {\n",
       "        vertical-align: middle;\n",
       "    }\n",
       "\n",
       "    .dataframe tbody tr th {\n",
       "        vertical-align: top;\n",
       "    }\n",
       "\n",
       "    .dataframe thead th {\n",
       "        text-align: right;\n",
       "    }\n",
       "</style>\n",
       "<table border=\"1\" class=\"dataframe\">\n",
       "  <thead>\n",
       "    <tr style=\"text-align: right;\">\n",
       "      <th></th>\n",
       "      <th>0</th>\n",
       "    </tr>\n",
       "  </thead>\n",
       "  <tbody>\n",
       "    <tr>\n",
       "      <th>Name</th>\n",
       "      <td>0</td>\n",
       "    </tr>\n",
       "    <tr>\n",
       "      <th>Gender</th>\n",
       "      <td>0</td>\n",
       "    </tr>\n",
       "  </tbody>\n",
       "</table>\n",
       "</div><br><label><b>dtype:</b> int64</label>"
      ],
      "text/plain": [
       "Name      0\n",
       "Gender    0\n",
       "dtype: int64"
      ]
     },
     "execution_count": 196,
     "metadata": {},
     "output_type": "execute_result"
    }
   ],
   "source": [
    "df.isnull().sum()"
   ]
  },
  {
   "cell_type": "code",
   "execution_count": null,
   "metadata": {
    "colab": {
     "base_uri": "https://localhost:8080/",
     "height": 178
    },
    "id": "spYbmvPYOAot",
    "outputId": "0f0bb264-f283-498a-eb1b-62c9f91580da"
   },
   "outputs": [
    {
     "data": {
      "text/html": [
       "<div>\n",
       "<style scoped>\n",
       "    .dataframe tbody tr th:only-of-type {\n",
       "        vertical-align: middle;\n",
       "    }\n",
       "\n",
       "    .dataframe tbody tr th {\n",
       "        vertical-align: top;\n",
       "    }\n",
       "\n",
       "    .dataframe thead th {\n",
       "        text-align: right;\n",
       "    }\n",
       "</style>\n",
       "<table border=\"1\" class=\"dataframe\">\n",
       "  <thead>\n",
       "    <tr style=\"text-align: right;\">\n",
       "      <th></th>\n",
       "      <th>count</th>\n",
       "    </tr>\n",
       "    <tr>\n",
       "      <th>Gender</th>\n",
       "      <th></th>\n",
       "    </tr>\n",
       "  </thead>\n",
       "  <tbody>\n",
       "    <tr>\n",
       "      <th>0</th>\n",
       "      <td>29014</td>\n",
       "    </tr>\n",
       "    <tr>\n",
       "      <th>1</th>\n",
       "      <td>24968</td>\n",
       "    </tr>\n",
       "  </tbody>\n",
       "</table>\n",
       "</div><br><label><b>dtype:</b> int64</label>"
      ],
      "text/plain": [
       "Gender\n",
       "0    29014\n",
       "1    24968\n",
       "Name: count, dtype: int64"
      ]
     },
     "execution_count": 197,
     "metadata": {},
     "output_type": "execute_result"
    }
   ],
   "source": [
    "df['Gender'].value_counts()"
   ]
  },
  {
   "cell_type": "markdown",
   "metadata": {
    "id": "rv0U-sxZiEb6"
   },
   "source": [
    "#### 0: Male\n",
    "#### 1: Female"
   ]
  },
  {
   "cell_type": "markdown",
   "metadata": {
    "id": "8teJBngbc9LQ"
   },
   "source": [
    "#### Feature Extraction: (last letter, last letter)"
   ]
  },
  {
   "cell_type": "code",
   "execution_count": null,
   "metadata": {
    "id": "Lo2JkTw0c8yL"
   },
   "outputs": [],
   "source": [
    "names= df['Name']\n",
    "genders= df['Gender']\n",
    "\n",
    "df['last_letter']= df['Name'].apply(lambda x: x[-1])\n",
    "df['last_two_letters']= df['Name'].apply(lambda x: x[-2:])"
   ]
  },
  {
   "cell_type": "markdown",
   "metadata": {
    "id": "WgT_YYbUelpx"
   },
   "source": [
    "#### Implementing Naive Bayes Classifier with NLTK"
   ]
  },
  {
   "cell_type": "markdown",
   "metadata": {
    "id": "8XFGXxmyeuf-"
   },
   "source": [
    "##### for last letter:"
   ]
  },
  {
   "cell_type": "code",
   "execution_count": null,
   "metadata": {
    "id": "wTDr1YeyOLWD"
   },
   "outputs": [],
   "source": [
    "import nltk\n",
    "from nltk import NaiveBayesClassifier\n",
    "from nltk.classify import accuracy\n",
    "\n",
    "# function to access only last letter\n",
    "def gender_features(name):\n",
    "\n",
    "    if len(name) > 0:\n",
    "        return {'last_letter': name[-1].lower()}\n",
    "    else:\n",
    "        return {'last_letter': ''}\n",
    "\n",
    "features = [(gender_features(name), gender) for name, gender in zip(names, genders) if isinstance(name, str) and len(name) > 0]\n",
    "\n",
    "# Split data into training and test sets\n",
    "train_size = int(0.8 * len(features))\n",
    "train_set, test_set = features[:train_size], features[train_size:]\n",
    "\n",
    "# Train Naive Bayes Classifier\n",
    "classifier = NaiveBayesClassifier.train(train_set)\n",
    "\n",
    "\n",
    "\n"
   ]
  },
  {
   "cell_type": "code",
   "execution_count": null,
   "metadata": {
    "colab": {
     "base_uri": "https://localhost:8080/"
    },
    "id": "ui4MDgsfk3Y9",
    "outputId": "80d193b7-38d5-4337-b113-9a339fa0e916"
   },
   "outputs": [
    {
     "name": "stdout",
     "output_type": "stream",
     "text": [
      "Accuracy: 0.921181809761971\n"
     ]
    }
   ],
   "source": [
    "# Evaluating the classifier\n",
    "print(f\"Accuracy: {accuracy(classifier, test_set)}\")"
   ]
  },
  {
   "cell_type": "code",
   "execution_count": null,
   "metadata": {
    "colab": {
     "base_uri": "https://localhost:8080/"
    },
    "id": "ori4WPuWk5q9",
    "outputId": "fa4c9748-e5bf-4f04-ce05-dd1bf5c0b64a"
   },
   "outputs": [
    {
     "name": "stdout",
     "output_type": "stream",
     "text": [
      "Most Informative Features\n",
      "             last_letter = 'n'                 0 : 1      =     47.3 : 1.0\n",
      "             last_letter = 'v'                 0 : 1      =     47.1 : 1.0\n",
      "             last_letter = 'g'                 0 : 1      =     39.3 : 1.0\n",
      "             last_letter = 'j'                 0 : 1      =     28.6 : 1.0\n",
      "             last_letter = 'k'                 0 : 1      =     24.5 : 1.0\n",
      "             last_letter = 'd'                 0 : 1      =     23.2 : 1.0\n",
      "             last_letter = 's'                 0 : 1      =     18.5 : 1.0\n",
      "             last_letter = 'h'                 0 : 1      =     10.8 : 1.0\n",
      "             last_letter = 'i'                 1 : 0      =      8.4 : 1.0\n",
      "             last_letter = 't'                 0 : 1      =      8.2 : 1.0\n"
     ]
    }
   ],
   "source": [
    "\n",
    "# Most informative features\n",
    "classifier.show_most_informative_features(10)"
   ]
  },
  {
   "cell_type": "code",
   "execution_count": null,
   "metadata": {
    "colab": {
     "base_uri": "https://localhost:8080/"
    },
    "id": "wkNoE-pihVuX",
    "outputId": "644a84af-8da3-4ff5-ca9f-d4d46b1233ea"
   },
   "outputs": [
    {
     "name": "stdout",
     "output_type": "stream",
     "text": [
      "The predicted gender for the name 'ravil' is: 0\n"
     ]
    }
   ],
   "source": [
    "# Testing with a sample name\n",
    "sample_name = \"ravil\"\n",
    "\n",
    "sample_features = gender_features(sample_name)\n",
    "\n",
    "predicted_gender = classifier.classify(sample_features)\n",
    "\n",
    "print(f\"The predicted gender for the name '{sample_name}' is: {predicted_gender}\")\n"
   ]
  },
  {
   "cell_type": "markdown",
   "metadata": {
    "id": "byG3RoPMi-Ao"
   },
   "source": [
    "### for last two letters:"
   ]
  },
  {
   "cell_type": "code",
   "execution_count": null,
   "metadata": {
    "id": "pgqrpJVniOE5"
   },
   "outputs": [],
   "source": [
    "# function to consider last two letters\n",
    "def gender_features(name):\n",
    "    if len(name) > 1:\n",
    "        return {'last_two_letters': name[-2:].lower()}  # Only include last two letters\n",
    "    elif len(name) == 1:\n",
    "        return {'last_two_letters': name[-1].lower()}  # If name is only 1 character long\n",
    "    else:\n",
    "        return {'last_two_letters': ''}  # Handle empty string case\n",
    "\n",
    "features = [(gender_features(name), gender) for name, gender in zip(names, genders) if isinstance(name, str) and len(name) > 0]\n",
    "\n",
    "# Split data into training and test sets\n",
    "train_size = int(0.8 * len(features))\n",
    "train_set, test_set = features[:train_size], features[train_size:]\n",
    "\n",
    "# Train Naive Bayes Classifier\n",
    "classifier = NaiveBayesClassifier.train(train_set)\n",
    "\n",
    "\n"
   ]
  },
  {
   "cell_type": "code",
   "execution_count": null,
   "metadata": {
    "colab": {
     "base_uri": "https://localhost:8080/"
    },
    "id": "tRRGMxWclKYG",
    "outputId": "3cf31722-4e0d-4c3b-9e65-c4dd84315edb"
   },
   "outputs": [
    {
     "name": "stdout",
     "output_type": "stream",
     "text": [
      "Accuracy: 0.9372047791053071\n"
     ]
    }
   ],
   "source": [
    "from nltk.classify.util import accuracy\n",
    "\n",
    "# After defining your classifier and test_set...\n",
    "print(f\"Accuracy: {accuracy(classifier, test_set)}\")\n"
   ]
  },
  {
   "cell_type": "code",
   "execution_count": null,
   "metadata": {
    "colab": {
     "base_uri": "https://localhost:8080/"
    },
    "id": "FaBY1i6llMxY",
    "outputId": "b27d8014-fda1-47dc-a62e-9ceeb77f1f11"
   },
   "outputs": [
    {
     "name": "stdout",
     "output_type": "stream",
     "text": [
      "Most Informative Features\n",
      "        last_two_letters = 'an'                0 : 1      =     88.4 : 1.0\n",
      "        last_two_letters = 'th'                0 : 1      =     58.0 : 1.0\n",
      "        last_two_letters = 'ca'                1 : 0      =     52.3 : 1.0\n",
      "        last_two_letters = 'ia'                1 : 0      =     44.6 : 1.0\n",
      "        last_two_letters = 'av'                0 : 1      =     44.5 : 1.0\n",
      "        last_two_letters = 'ka'                1 : 0      =     41.5 : 1.0\n",
      "        last_two_letters = 'nd'                0 : 1      =     39.8 : 1.0\n",
      "        last_two_letters = 'sh'                0 : 1      =     38.2 : 1.0\n",
      "        last_two_letters = 'as'                0 : 1      =     37.0 : 1.0\n",
      "        last_two_letters = 'nt'                0 : 1      =     34.9 : 1.0\n"
     ]
    }
   ],
   "source": [
    "classifier.show_most_informative_features(10)"
   ]
  },
  {
   "cell_type": "code",
   "execution_count": null,
   "metadata": {
    "colab": {
     "base_uri": "https://localhost:8080/"
    },
    "id": "7vdDT1HXlPRu",
    "outputId": "be75f134-af1c-447a-c97f-446150deac54"
   },
   "outputs": [
    {
     "name": "stdout",
     "output_type": "stream",
     "text": [
      "The predicted gender for the name 'Raman' is: 0\n",
      "The predicted gender for the name 'Raman' is: Male\n"
     ]
    }
   ],
   "source": [
    "# Test with a sample name\n",
    "sample_name = \"Raman\"\n",
    "sample_features = gender_features(sample_name)\n",
    "predicted_gender = classifier.classify(sample_features)\n",
    "\n",
    "print(f\"The predicted gender for the name '{sample_name}' is: {predicted_gender}\")\n",
    "\n",
    "if predicted_gender == 0:\n",
    "    predicted_gender = 'Male'\n",
    "elif predicted_gender == 1:\n",
    "    predicted_gender = 'Female'\n",
    "\n",
    "# Output the result\n",
    "print(f\"The predicted gender for the name '{sample_name}' is: {predicted_gender}\")\n"
   ]
  },
  {
   "cell_type": "markdown",
   "metadata": {
    "id": "5E1UouqUl7D1"
   },
   "source": [
    "### comparing between Spacy and SKLearn Classifier"
   ]
  },
  {
   "cell_type": "code",
   "execution_count": null,
   "metadata": {
    "colab": {
     "base_uri": "https://localhost:8080/"
    },
    "id": "v2zp6FYllvzX",
    "outputId": "6f05a4e7-5969-48f2-ad97-4eb2c52eea6e"
   },
   "outputs": [
    {
     "name": "stdout",
     "output_type": "stream",
     "text": [
      "sklearn_accuracy: 0.9055293136982495\n"
     ]
    }
   ],
   "source": [
    "import numpy as np\n",
    "from sklearn.feature_extraction import DictVectorizer\n",
    "from sklearn.naive_bayes import MultinomialNB\n",
    "from sklearn.model_selection import train_test_split\n",
    "from sklearn.metrics import accuracy_score\n",
    "\n",
    "# Create feature function (using last letter and last two letters)\n",
    "def gender_features(name):\n",
    "    # Safeguard for empty names\n",
    "    if len(name) > 1:\n",
    "        return {'last_letter': name[-1].lower(), 'last_two_letters': name[-2:].lower()}\n",
    "    elif len(name) == 1:\n",
    "        return {'last_letter': name[-1].lower(), 'last_two_letters': name[-1].lower()}  # Handle single character names\n",
    "    else:\n",
    "        return {'last_letter': '', 'last_two_letters': ''}  # Handle empty names\n",
    "\n",
    "# Convert to dictionary format for sklearn\n",
    "features = [gender_features(name) for name in names]\n",
    "genders = np.array(genders)\n",
    "\n",
    "# Use DictVectorizer to convert feature dictionaries to feature matrices\n",
    "vectorizer = DictVectorizer(sparse=False)\n",
    "X = vectorizer.fit_transform(features)\n",
    "y = genders\n",
    "\n",
    "# Train-Test Split\n",
    "X_train, X_test, y_train, y_test = train_test_split(X, y, test_size=0.2, random_state=42)\n",
    "\n",
    "# Train Naive Bayes Model using MultinomialNB\n",
    "clf = MultinomialNB()\n",
    "clf.fit(X_train, y_train)\n",
    "\n",
    "# Predict on test set and evaluate\n",
    "predictions = clf.predict(X_test)\n",
    "sklearn_accuracy = accuracy_score(y_test, predictions)\n",
    "print(f\"sklearn_accuracy: {sklearn_accuracy}\")\n",
    "\n"
   ]
  },
  {
   "cell_type": "code",
   "execution_count": null,
   "metadata": {
    "colab": {
     "base_uri": "https://localhost:8080/"
    },
    "id": "YV7P56Dap32s",
    "outputId": "6387f5a2-ab9e-4cf8-a243-3b57a5307a04"
   },
   "outputs": [
    {
     "name": "stdout",
     "output_type": "stream",
     "text": [
      "The predicted gender for the name 'jayen' is: Male\n"
     ]
    }
   ],
   "source": [
    "# Testing with a sample name\n",
    "sample_name = \"jayen\"\n",
    "sample_features = vectorizer.transform([gender_features(sample_name)])\n",
    "\n",
    "predicted_gender = clf.predict(sample_features)\n",
    "\n",
    "if predicted_gender == 0:\n",
    "    predicted_gender = 'Male'\n",
    "elif predicted_gender == 1:\n",
    "    predicted_gender = 'Female'\n",
    "\n",
    "print(f\"The predicted gender for the name '{sample_name}' is: {predicted_gender}\")\n"
   ]
  },
  {
   "cell_type": "code",
   "execution_count": null,
   "metadata": {
    "colab": {
     "base_uri": "https://localhost:8080/"
    },
    "id": "mcA8RjO21XFq",
    "outputId": "38b62191-8440-4bd8-b111-589ee21671dc"
   },
   "outputs": [
    {
     "name": "stderr",
     "output_type": "stream",
     "text": [
      "[nltk_data] Downloading package names to /root/nltk_data...\n",
      "[nltk_data]   Package names is already up-to-date!\n"
     ]
    },
    {
     "name": "stdout",
     "output_type": "stream",
     "text": [
      "Accuracy (SpaCy): 0.7910635619886721\n"
     ]
    }
   ],
   "source": [
    "import spacy\n",
    "import random\n",
    "import numpy as np\n",
    "from sklearn.feature_extraction import DictVectorizer\n",
    "from sklearn.naive_bayes import MultinomialNB\n",
    "from sklearn.model_selection import train_test_split\n",
    "from sklearn.metrics import accuracy_score\n",
    "from nltk.corpus import names\n",
    "import nltk\n",
    "\n",
    "# Download names dataset from NLTK\n",
    "nltk.download('names')\n",
    "\n",
    "# Load the English language model\n",
    "nlp = spacy.load(\"en_core_web_sm\")\n",
    "\n",
    "# Get names from NLTK corpus\n",
    "male_names = [(name, 'male') for name in names.words('male.txt')]\n",
    "female_names = [(name, 'female') for name in names.words('female.txt')]\n",
    "\n",
    "# Combine and shuffle the names\n",
    "all_names = male_names + female_names\n",
    "random.shuffle(all_names)\n",
    "\n",
    "# Separate the names and genders\n",
    "names, genders = zip(*all_names)\n",
    "\n",
    "# function to access last two letter and last letter feature\n",
    "def gender_features(name):\n",
    "    if len(name) > 1:\n",
    "        return {'last_letter': name[-1].lower(), 'last_two_letters': name[-2:].lower()}\n",
    "    elif len(name) == 1:\n",
    "        return {'last_letter': name[-1].lower(), 'last_two_letters': name[-1].lower()}  # Handle single character names\n",
    "    else:\n",
    "        return {'last_letter': '', 'last_two_letters': ''}  # Handle empty names\n",
    "\n",
    "# Using SpaCy to extract features\n",
    "def spacy_gender_prediction(name):\n",
    "    # Create a document using SpaCy\n",
    "    doc = nlp(name)\n",
    "\n",
    "    # Extract features using the same logic\n",
    "    features = gender_features(name)\n",
    "    return features\n",
    "\n",
    "# Extract features for each name using SpaCy\n",
    "spacy_features = [spacy_gender_prediction(name) for name in names]\n",
    "\n",
    "# Use DictVectorizer to convert feature dictionaries to feature matrices\n",
    "vectorizer = DictVectorizer(sparse=False)\n",
    "X = vectorizer.fit_transform(spacy_features)\n",
    "y = np.array(genders)\n",
    "\n",
    "# Train-Test Split\n",
    "X_train, X_test, y_train, y_test = train_test_split(X, y, test_size=0.2, random_state=42)\n",
    "\n",
    "# Train Naive Bayes Model using MultinomialNB\n",
    "clf = MultinomialNB()\n",
    "clf.fit(X_train, y_train)\n",
    "\n",
    "# Predict on test set and evaluate\n",
    "predictions_spacy = clf.predict(X_test)\n",
    "\n",
    "# Calculate accuracy for SpaCy-based predictions\n",
    "spacy_accuracy = accuracy_score(y_test, predictions_spacy)\n",
    "print(f\"Accuracy (SpaCy): {spacy_accuracy}\")\n"
   ]
  },
  {
   "cell_type": "code",
   "execution_count": null,
   "metadata": {
    "colab": {
     "base_uri": "https://localhost:8080/",
     "height": 569
    },
    "id": "MxtCaSiQ46yo",
    "outputId": "e3df1aca-a983-422f-f68c-e3539f44ad9b"
   },
   "outputs": [
    {
     "data": {
      "image/png": "[encoded data removed]",
      "text/plain": [
       "<Figure size 800x600 with 1 Axes>"
      ]
     },
     "metadata": {},
     "output_type": "display_data"
    }
   ],
   "source": [
    "import matplotlib.pyplot as plt\n",
    "\n",
    "# Labels and values for the bar chart\n",
    "methods = ['Scikit-Learn', 'SpaCy']\n",
    "accuracies = [sklearn_accuracy, spacy_accuracy]\n",
    "\n",
    "# Create the bar chart\n",
    "plt.figure(figsize=(8, 6))\n",
    "plt.bar(methods, accuracies, color=['blue', 'green'])\n",
    "\n",
    "# Add titles and labels\n",
    "plt.title('Accuracy Comparison: Scikit-Learn vs SpaCy', fontsize=14)\n",
    "plt.xlabel('Method', fontsize=12)\n",
    "plt.ylabel('Accuracy', fontsize=12)\n",
    "plt.ylim(0, 1)  # Set Y axis limit from 0 to 1 (for percentage accuracy)\n",
    "\n",
    "\n",
    "for i, v in enumerate(accuracies):\n",
    "    plt.text(i, v + 0.01, f\"{v:.2f}\", ha='center', fontsize=12)\n",
    "\n",
    "# Show the plot\n",
    "plt.show()\n"
   ]
  }
 ],
 "metadata": {
  "colab": {
   "provenance": []
  },
  "kernelspec": {
   "display_name": "Python 3",
   "name": "python3"
  },
  "language_info": {
   "name": "python"
  }
 },
 "nbformat": 4,
 "nbformat_minor": 0
}
